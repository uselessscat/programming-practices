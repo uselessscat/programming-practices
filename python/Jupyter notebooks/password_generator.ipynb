{
 "metadata": {
  "language_info": {
   "codemirror_mode": {
    "name": "ipython",
    "version": 3
   },
   "file_extension": ".py",
   "mimetype": "text/x-python",
   "name": "python",
   "nbconvert_exporter": "python",
   "pygments_lexer": "ipython3",
   "version": "3.8.2-final"
  },
  "orig_nbformat": 2,
  "kernelspec": {
   "name": "python38264bit7efc79ded3df4e4294ab06002629772c",
   "display_name": "Python 3.8.2 64-bit"
  }
 },
 "nbformat": 4,
 "nbformat_minor": 2,
 "cells": [
  {
   "cell_type": "code",
   "execution_count": null,
   "metadata": {
    "tags": []
   },
   "outputs": [],
   "source": [
    "from datetime import datetime, timezone\n",
    "from random import Random\n",
    "import string\n",
    "import hashlib\n",
    "\n",
    "valid_ssid = 'abcdefghjkmnpqrstuvwxyzABCDEFGHJKLMNPQRSTUVWXYZ23456789'\n",
    "valid_pass = valid_ssid + '!#$%&\\\\()*+-/<=>¿?@[]^_{}'\n",
    "\n",
    "MAX_INT = 0xffffffff\n",
    "\n",
    "pin = 9999\n",
    "today_midnight = int(datetime.today().replace(hour=0,minute=0,second=0,microsecond=0, tzinfo=timezone.utc).timestamp())\n",
    "\n",
    "r1 = Random(pin)\n",
    "r2 = Random(today_midnight ^ r1.randint(0, MAX_INT))\n",
    "\n",
    "final_seed = bytes(r1.randint(0, 0xff) ^ r2.randint(0, 0xff) for _ in range(64))\n",
    "\n",
    "r3 = Random(hashlib.sha256(final_seed).digest())\n",
    "\n",
    "name = ''.join([r3.choice(valid_ssid) for _ in range(20)])\n",
    "password = ''.join([r3.choice(valid_pass) for _ in range(40)])\n",
    "\n",
    "print (name, \":::\", password)"
   ]
  },
  {
   "cell_type": "code",
   "execution_count": null,
   "metadata": {},
   "outputs": [],
   "source": []
  }
 ]
}